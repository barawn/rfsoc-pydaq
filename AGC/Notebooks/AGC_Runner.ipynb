{
 "cells": [
  {
   "cell_type": "code",
   "execution_count": 1,
   "metadata": {},
   "outputs": [
    {
     "name": "stdout",
     "output_type": "stream",
     "text": [
      "Turning on SYNC\n",
      "Turning off SYNC\n"
     ]
    },
    {
     "data": {
      "application/javascript": [
       "\n",
       "try {\n",
       "require(['notebook/js/codecell'], function(codecell) {\n",
       "  codecell.CodeCell.options_default.highlight_modes[\n",
       "      'magic_text/x-csrc'] = {'reg':[/^%%microblaze/]};\n",
       "  Jupyter.notebook.events.one('kernel_ready.Kernel', function(){\n",
       "      Jupyter.notebook.get_cells().map(function(cell){\n",
       "          if (cell.cell_type == 'code'){ cell.auto_highlight(); } }) ;\n",
       "  });\n",
       "});\n",
       "} catch (e) {};\n"
      ]
     },
     "metadata": {},
     "output_type": "display_data"
    },
    {
     "data": {
      "application/javascript": [
       "\n",
       "try {\n",
       "require(['notebook/js/codecell'], function(codecell) {\n",
       "  codecell.CodeCell.options_default.highlight_modes[\n",
       "      'magic_text/x-csrc'] = {'reg':[/^%%pybind11/]};\n",
       "  Jupyter.notebook.events.one('kernel_ready.Kernel', function(){\n",
       "      Jupyter.notebook.get_cells().map(function(cell){\n",
       "          if (cell.cell_type == 'code'){ cell.auto_highlight(); } }) ;\n",
       "  });\n",
       "});\n",
       "} catch (e) {};\n"
      ]
     },
     "metadata": {},
     "output_type": "display_data"
    },
    {
     "data": {
      "text/plain": [
       "'The scaling has been set to 1000'"
      ]
     },
     "execution_count": 1,
     "metadata": {},
     "output_type": "execute_result"
    }
   ],
   "source": [
    "import pynq\n",
    "\n",
    "import sys\n",
    "import os\n",
    "\n",
    "sys.path.append(os.path.abspath(os.path.join(os.getcwd(), '..', '..')))\n",
    "\n",
    "from AGC.AGC_Daq import AGC_Daq\n",
    "from Utils.PlotTools import PlottingTools as pt\n",
    "\n",
    "from ipywidgets import interact, interactive, fixed, interact_manual, HBox\n",
    "import ipywidgets as widgets\n",
    "from IPython.display import display, clear_output\n",
    "import matplotlib.pyplot as plt\n",
    "\n",
    "daq = AGC_Daq(None, None, 2, 2**7)\n",
    "\n",
    "daq.setScaling(1000)"
   ]
  },
  {
   "cell_type": "code",
   "execution_count": 2,
   "metadata": {},
   "outputs": [],
   "source": [
    "def update_params(Scaling, Offset, Samples):\n",
    "    \n",
    "    daq.setScaling(Scaling)\n",
    "    daq.setOffset(Offset)\n",
    "    daq.setNumSamples(Samples)"
   ]
  },
  {
   "cell_type": "code",
   "execution_count": 3,
   "metadata": {},
   "outputs": [
    {
     "data": {
      "application/vnd.jupyter.widget-view+json": {
       "model_id": "b923118b456c4d43ad59849077776f1c",
       "version_major": 2,
       "version_minor": 0
      },
      "text/plain": [
       "VBox(children=(HBox(children=(IntSlider(value=1000, continuous_update=False, description='Scale:', max=16483, …"
      ]
     },
     "metadata": {},
     "output_type": "display_data"
    }
   ],
   "source": [
    "def update_plot(Scaling, Offset, Samples):\n",
    "    update_params(Scaling, Offset, Samples)\n",
    "    \n",
    "    daq.JupyterAcquire()\n",
    "    \n",
    "    fig, (ax1, ax2) = plt.subplots(1, 2, figsize=(25, 10))\n",
    "        \n",
    "    daq.waveforms[0].plotWaveform(ax1,  title = \"AGC Core ADC224_T0_CH0\")\n",
    "    \n",
    "    daq.waveforms[1].plotWaveform(ax2, title = \"Raw ADC224_T0_CH0\")\n",
    "    \n",
    "    plt.show()\n",
    "    \n",
    "scaleSlider = widgets.IntSlider(min=0, max=16483, step=10, value=1000, description='Scale:', continuous_update=False)\n",
    "offsetSlider = widgets.IntSlider(min=0, max=1000, step=10, value=0, description='Offset:', continuous_update=False)\n",
    "sampleSlider = widgets.SelectionSlider(options=[2**n for n in range(2, 15)], value=2**7, description='NumSamples:',continuous_update=False)\n",
    "    \n",
    "# Create interactive plot\n",
    "plot_output = widgets.Output()\n",
    "    \n",
    "def update(change):\n",
    "    with plot_output:\n",
    "        plot_output.clear_output(wait=True)\n",
    "        update_plot(scaleSlider.value, offsetSlider.value, sampleSlider.value)\n",
    "    \n",
    "scaleSlider.observe(update, names='value')\n",
    "offsetSlider.observe(update, names='value')\n",
    "sampleSlider.observe(update, names='value')\n",
    "\n",
    "# Layout\n",
    "slider_box = widgets.HBox([scaleSlider, offsetSlider, sampleSlider])\n",
    "ui = widgets.VBox([slider_box, plot_output])\n",
    "\n",
    "# Display\n",
    "display(ui)\n",
    "\n",
    "# Initial plot\n",
    "update(None)"
   ]
  },
  {
   "cell_type": "code",
   "execution_count": null,
   "metadata": {},
   "outputs": [],
   "source": []
  }
 ],
 "metadata": {
  "kernelspec": {
   "display_name": "Python 3 (ipykernel)",
   "language": "python",
   "name": "python3"
  },
  "language_info": {
   "codemirror_mode": {
    "name": "ipython",
    "version": 3
   },
   "file_extension": ".py",
   "mimetype": "text/x-python",
   "name": "python",
   "nbconvert_exporter": "python",
   "pygments_lexer": "ipython3",
   "version": "3.10.4"
  }
 },
 "nbformat": 4,
 "nbformat_minor": 4
}
