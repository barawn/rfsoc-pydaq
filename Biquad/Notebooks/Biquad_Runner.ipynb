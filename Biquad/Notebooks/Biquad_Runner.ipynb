{
 "cells": [
  {
   "cell_type": "code",
   "execution_count": 1,
   "metadata": {},
   "outputs": [
    {
     "name": "stdout",
     "output_type": "stream",
     "text": [
      "Turning on SYNC\n",
      "Turning off SYNC\n"
     ]
    },
    {
     "data": {
      "application/javascript": [
       "\n",
       "try {\n",
       "require(['notebook/js/codecell'], function(codecell) {\n",
       "  codecell.CodeCell.options_default.highlight_modes[\n",
       "      'magic_text/x-csrc'] = {'reg':[/^%%microblaze/]};\n",
       "  Jupyter.notebook.events.one('kernel_ready.Kernel', function(){\n",
       "      Jupyter.notebook.get_cells().map(function(cell){\n",
       "          if (cell.cell_type == 'code'){ cell.auto_highlight(); } }) ;\n",
       "  });\n",
       "});\n",
       "} catch (e) {};\n"
      ]
     },
     "metadata": {},
     "output_type": "display_data"
    },
    {
     "data": {
      "application/javascript": [
       "\n",
       "try {\n",
       "require(['notebook/js/codecell'], function(codecell) {\n",
       "  codecell.CodeCell.options_default.highlight_modes[\n",
       "      'magic_text/x-csrc'] = {'reg':[/^%%pybind11/]};\n",
       "  Jupyter.notebook.events.one('kernel_ready.Kernel', function(){\n",
       "      Jupyter.notebook.get_cells().map(function(cell){\n",
       "          if (cell.cell_type == 'code'){ cell.auto_highlight(); } }) ;\n",
       "  });\n",
       "});\n",
       "} catch (e) {};\n"
      ]
     },
     "metadata": {},
     "output_type": "display_data"
    }
   ],
   "source": [
    "import sys\n",
    "import os\n",
    "\n",
    "\n",
    "sys.path.append(os.path.abspath(os.path.join(os.getcwd(), '..', '..')))\n",
    "\n",
    "from Biquad.Biquad_Daq import Biquad_Daq\n",
    "\n",
    "from Utils.PlotTools import PlottingTools as pt\n",
    "\n",
    "import numpy as np\n",
    "from ipywidgets import interact, interactive, fixed, interact_manual, HBox\n",
    "import ipywidgets as widgets\n",
    "from IPython.display import display, clear_output\n",
    "import matplotlib.pyplot as plt\n",
    "daq = Biquad_Daq(0,0,4, 2**10)"
   ]
  },
  {
   "cell_type": "code",
   "execution_count": 2,
   "metadata": {},
   "outputs": [],
   "source": [
    "daq.setA(1)\n",
    "daq.setB(0)\n",
    "daq.setP(0)\n",
    "daq.setTheta(np.pi)\n",
    "daq.setM(8)"
   ]
  },
  {
   "cell_type": "code",
   "execution_count": 16,
   "metadata": {},
   "outputs": [],
   "source": [
    "def update_coef(A, B, P, Theta):\n",
    "    \n",
    "    daq.setA(A)\n",
    "    daq.setB(B)\n",
    "    daq.setP(P)\n",
    "    daq.setTheta(np.pi*Theta)\n",
    "    \n",
    "    daq.set_single_zero_fir()\n",
    "    daq.set_f_fir()\n",
    "    daq.set_g_fir()\n",
    "    daq.set_F_fir()\n",
    "    daq.set_G_fir()\n",
    "    daq.set_pole_coef()\n",
    "    # daq.set_incremental()"
   ]
  },
  {
   "cell_type": "code",
   "execution_count": 17,
   "metadata": {},
   "outputs": [
    {
     "data": {
      "application/vnd.jupyter.widget-view+json": {
       "model_id": "86744c8e3923429d94c5afa7dc7e54de",
       "version_major": 2,
       "version_minor": 0
      },
      "text/plain": [
       "VBox(children=(HBox(children=(FloatSlider(value=0.0, continuous_update=False, description='A:', max=7.9, min=-…"
      ]
     },
     "metadata": {},
     "output_type": "display_data"
    }
   ],
   "source": [
    "def update_plot(A, B, P, Theta):\n",
    "    update_coef(A, B, P, Theta)\n",
    "    \n",
    "    daq.JupyterAcquire()\n",
    "    \n",
    "    fig, ((axB,axF),(axR,ax0)) = plt.subplots(2, 2, figsize=(25, 10))\n",
    "        \n",
    "    daq.waveforms[2].plotWaveform(axB, title=\"Biquaded ADC224_T0_CH0\")\n",
    "    daq.waveforms[2].plotFFT(axF, title=\"Biquaded FFT\")\n",
    "    \n",
    "    daq.waveforms[0].plotWaveform(axR, title=\"Raw ADC224_T0_CH0\")\n",
    "    daq.waveforms[0].plotFFT(ax0, title=\"Raw FFT\")\n",
    "    \n",
    "    plt.show()\n",
    "    \n",
    "A_slider = widgets.FloatSlider(min=-8, max=7.9, step=0.05, value=0, description='A:', continuous_update=False)\n",
    "B_slider = widgets.FloatSlider(min=-8, max=7.9, step=0.05, value=1, description='B:', continuous_update=False)\n",
    "P_slider = widgets.FloatSlider(min=0, max=1, step=0.01, value=0, description='P:', continuous_update=False)\n",
    "Theta_slider = widgets.FloatSlider(min=0, max=2, step=0.01, value=0.75, description='Theta:', continuous_update=False)\n",
    "\n",
    "# Create interactive plot\n",
    "plot_output = widgets.Output()\n",
    "    \n",
    "def update(change):\n",
    "    with plot_output:\n",
    "        plot_output.clear_output(wait=True)\n",
    "        update_plot(A_slider.value, B_slider.value, P_slider.value, Theta_slider.value)\n",
    "    \n",
    "A_slider.observe(update, names='value')\n",
    "B_slider.observe(update, names='value')\n",
    "P_slider.observe(update, names='value')\n",
    "Theta_slider.observe(update, names='value')\n",
    "\n",
    "# Layout\n",
    "slider_box = widgets.HBox([A_slider, B_slider, P_slider, Theta_slider])\n",
    "ui = widgets.VBox([slider_box, plot_output])\n",
    "\n",
    "# Display\n",
    "display(ui)\n",
    "\n",
    "# Initial plot\n",
    "update(None)"
   ]
  },
  {
   "cell_type": "code",
   "execution_count": 5,
   "metadata": {},
   "outputs": [],
   "source": [
    "##375.2MHz"
   ]
  },
  {
   "cell_type": "code",
   "execution_count": null,
   "metadata": {},
   "outputs": [],
   "source": []
  }
 ],
 "metadata": {
  "kernelspec": {
   "display_name": "Python 3 (ipykernel)",
   "language": "python",
   "name": "python3"
  },
  "language_info": {
   "codemirror_mode": {
    "name": "ipython",
    "version": 3
   },
   "file_extension": ".py",
   "mimetype": "text/x-python",
   "name": "python",
   "nbconvert_exporter": "python",
   "pygments_lexer": "ipython3",
   "version": "3.10.4"
  }
 },
 "nbformat": 4,
 "nbformat_minor": 4
}
