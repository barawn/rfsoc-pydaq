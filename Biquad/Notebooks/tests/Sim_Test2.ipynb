{
 "cells": [
  {
   "cell_type": "code",
   "execution_count": 1,
   "id": "9f45a2d5-0664-4fd9-9f09-144eccb2c400",
   "metadata": {},
   "outputs": [],
   "source": [
    "import sys, os\n",
    "\n",
    "sys.path.append(os.path.abspath(os.path.join(os.getcwd(), '..', '..')))\n",
    "sys.path.append(os.path.abspath(os.path.join(os.getcwd(), '..', '..', '..')))\n",
    "\n",
    "from RFSoC_Daq import RFSoC_Daq\n",
    "from Biquad import Biquad\n",
    "from SimBiquad import SimBiquad\n",
    "from Biquad_Daq import Biquad_Daq\n",
    "from Filter import Filter\n",
    "\n",
    "from Waveforms.Waveform import Waveform"
   ]
  },
  {
   "cell_type": "code",
   "execution_count": 2,
   "id": "bf92b21d-72b5-41d8-95bf-3bf52f69a56b",
   "metadata": {},
   "outputs": [
    {
     "name": "stderr",
     "output_type": "stream",
     "text": [
      "DEBUG:RFSoC_Daq:Asked to load overlay at /home/xilinx/python/zcumts.py\n",
      "DEBUG:RFSoC_Daq:Adding directory /home/xilinx/python to module search path\n",
      "DEBUG:RFSoC_Daq:Changing directory to /home/xilinx/python\n",
      "DEBUG:RFSoC_Daq:Going to try to import zcumts\n",
      "DEBUG:RFSoC_Daq:Found Overlay class Overlay from module pynq.overlay\n",
      "DEBUG:RFSoC_Daq:Found RFSoC overlay zcuMTS\n"
     ]
    },
    {
     "name": "stdout",
     "output_type": "stream",
     "text": [
      "Turning on SYNC\n",
      "Turning off SYNC\n"
     ]
    },
    {
     "data": {
      "application/javascript": [
       "\n",
       "try {\n",
       "require(['notebook/js/codecell'], function(codecell) {\n",
       "  codecell.CodeCell.options_default.highlight_modes[\n",
       "      'magic_text/x-csrc'] = {'reg':[/^%%microblaze/]};\n",
       "  Jupyter.notebook.events.one('kernel_ready.Kernel', function(){\n",
       "      Jupyter.notebook.get_cells().map(function(cell){\n",
       "          if (cell.cell_type == 'code'){ cell.auto_highlight(); } }) ;\n",
       "  });\n",
       "});\n",
       "} catch (e) {};\n"
      ]
     },
     "metadata": {},
     "output_type": "display_data"
    },
    {
     "data": {
      "application/javascript": [
       "\n",
       "try {\n",
       "require(['notebook/js/codecell'], function(codecell) {\n",
       "  codecell.CodeCell.options_default.highlight_modes[\n",
       "      'magic_text/x-csrc'] = {'reg':[/^%%pybind11/]};\n",
       "  Jupyter.notebook.events.one('kernel_ready.Kernel', function(){\n",
       "      Jupyter.notebook.get_cells().map(function(cell){\n",
       "          if (cell.cell_type == 'code'){ cell.auto_highlight(); } }) ;\n",
       "  });\n",
       "});\n",
       "} catch (e) {};\n"
      ]
     },
     "metadata": {},
     "output_type": "display_data"
    },
    {
     "name": "stderr",
     "output_type": "stream",
     "text": [
      "DEBUG:RFSoC_Daq:Created RFSoC device\n",
      "DEBUG:RFSoC_Daq:Restoring original module search path\n",
      "DEBUG:RFSoC_Daq:Going back to original directory /home/xilinx/rfsoc-pydaq/Biquad/Notebooks/tests\n"
     ]
    }
   ],
   "source": [
    "daq = Biquad_Daq()\n",
    "sim = SimBiquad()\n",
    "filter = Filter()\n",
    "filter.calc_params(460)"
   ]
  },
  {
   "cell_type": "code",
   "execution_count": 3,
   "id": "228aae02-4b0d-4bb7-8801-25b6381cfda6",
   "metadata": {},
   "outputs": [],
   "source": [
    "import pynq\n",
    "\n",
    "import numpy as np\n",
    "from ipywidgets import interact, interactive, fixed, interact_manual, HBox\n",
    "import ipywidgets as widgets\n",
    "from IPython.display import display, clear_output\n",
    "import matplotlib.pyplot as plt"
   ]
  },
  {
   "cell_type": "code",
   "execution_count": 4,
   "id": "c79e3353-0289-4408-857a-5999ea714e61",
   "metadata": {},
   "outputs": [],
   "source": [
    "def update_plot():\n",
    "    \n",
    "    global daq_output\n",
    "    global sim_output\n",
    "    global diff_output\n",
    "    \n",
    "    Xn = [0, 0, 0, 0, 0, 0, 0]\n",
    "    Cross = [1, 0, 0, 0]\n",
    "    C = [0 ,0, 0, 0]\n",
    "    \n",
    "    daq.update_params(**filter.get_params())\n",
    "    \n",
    "    # daq.set_Xn(*Xn)\n",
    "    # daq.set_poleFIR(*Cross)\n",
    "    # daq.set_poleIIR(*C)\n",
    "    \n",
    "    daq.quantise_coeffs()\n",
    "    \n",
    "    daq.run_zeroFIR()\n",
    "    daq.run_poleFIR()\n",
    "    daq.run_poleIIR()\n",
    "    \n",
    "    daq.update_waveforms()\n",
    "    \n",
    "    sim.update_params(**filter.get_params())\n",
    "    \n",
    "    sim.data = daq.adcBuffer[0] >> 4\n",
    "    \n",
    "    # sim.set_Xn(*Xn)\n",
    "    # sim.set_poleFIR(*Cross)\n",
    "    # sim.set_poleIIR(*C)\n",
    "    \n",
    "    sim.quantise_coeffs()\n",
    "    sim.run_zeroFIR(quant=False)\n",
    "    sim.run_poleFIR(quant=True)\n",
    "    sim.run_poleIIR(quant=True)\n",
    "    \n",
    "    daq_output = daq.extract_biquad()\n",
    "    sim_output = sim.extract_biquad(quant=False)\n",
    "    diff_output = Waveform(daq_output.waveform - sim_output.waveform)\n",
    "    \n",
    "    fig, (axB,axS,axR) = plt.subplots(3, 1, figsize=(25, 15))\n",
    "        \n",
    "    daq_output.plotWaveform(axB, title=\"Biquaded ADC224_T0_CH0\")\n",
    "    \n",
    "    sim_output.plotWaveform(axS, title=\"Simulated Biquad (No Quantisation)\")\n",
    "    \n",
    "    diff_output.plotWaveform(axR, title=\"Difference\")\n",
    "    \n",
    "    axR.axhline(y=4, color='r', linestyle='--', linewidth=1, label=\"Error Allowance\")\n",
    "    axR.axhline(y=-4, color='r', linestyle='--', linewidth=1)\n",
    "    \n",
    "    axR.text(0.93, 0.97, filter.__str__(), verticalalignment='top', horizontalalignment='right',\n",
    "            transform=axR.transAxes, bbox=dict(facecolor='white', alpha=0.5))\n",
    "    \n",
    "    plt.show()\n",
    "    \n",
    "    \n",
    "    # print(f'Raw ADC Output : {sim.extract_raw()[0]}')\n",
    "    # print(f'Basic Prediction (A*Value) : {filter.A*sim.extract_raw()[0]}')\n",
    "    # print(f'Daq Biquad Output : {daq_output[0]}')\n",
    "    # print(f'Sim Biquad Output : {sim_output[0]}')"
   ]
  },
  {
   "cell_type": "code",
   "execution_count": 5,
   "id": "fc5ea670-b086-47ba-8bb8-11ec4fe26f0e",
   "metadata": {},
   "outputs": [
    {
     "data": {
      "application/vnd.jupyter.widget-view+json": {
       "model_id": "49ae667ca91a4c13ab8e014903372c13",
       "version_major": 2,
       "version_minor": 0
      },
      "text/plain": [
       "VBox(children=(HBox(children=(FloatSlider(value=0.9118751438539222, continuous_update=False, description='A:',…"
      ]
     },
     "metadata": {},
     "output_type": "display_data"
    }
   ],
   "source": [
    "A_slider = widgets.FloatSlider(min=-4, max=4, step=0.05, value=filter.A, description='A:', continuous_update=False)\n",
    "P_slider = widgets.FloatSlider(min=0, max=1, step=0.05, value=filter.P, description='P:', continuous_update=False)\n",
    "Zero_slider = widgets.FloatSlider(min=200, max=1200, step=5, value=filter.fz, description='Zero:', continuous_update=False)\n",
    "Pole_slider = widgets.FloatSlider(min=1, max=1500, step=5, value=filter.fp, description='Pole:', continuous_update=False)\n",
    "\n",
    "plot_output = widgets.Output()\n",
    "\n",
    "def update_params(_=None):\n",
    "    with plot_output:\n",
    "        plot_output.clear_output(wait=True)\n",
    "        filter.fz = Zero_slider.value\n",
    "        filter.A = A_slider.value\n",
    "        filter.P = P_slider.value\n",
    "        filter.fp = Pole_slider.value\n",
    "        update_plot()\n",
    "\n",
    "def update(change):\n",
    "    with plot_output:\n",
    "        plot_output.clear_output(wait=True)\n",
    "        if change['owner'] == Zero_slider:\n",
    "            filter.fz = Zero_slider.value\n",
    "            A_slider.value = filter.A\n",
    "            P_slider.value = filter.P\n",
    "            Pole_slider.value = filter.fp\n",
    "        update_plot()\n",
    "        \n",
    "update_button = widgets.Button(description=\"Update Plot\")\n",
    "update_button.on_click(update_params)\n",
    "Zero_slider.observe(update, names='value')\n",
    "\n",
    "slider_box = widgets.HBox([A_slider, P_slider, Zero_slider, Pole_slider, update_button])\n",
    "ui = widgets.VBox([slider_box, plot_output])\n",
    "display(ui)\n",
    "update_params()"
   ]
  },
  {
   "cell_type": "code",
   "execution_count": 6,
   "id": "20d2d46c-f7e2-416b-84b0-dd91aa4e2180",
   "metadata": {},
   "outputs": [
    {
     "name": "stdout",
     "output_type": "stream",
     "text": [
      "\n",
      "Total Error Count : 0\n",
      "Total Error Percentage : 0.0%\n"
     ]
    }
   ],
   "source": [
    "# import time\n",
    "# start_time = time.time()\n",
    "\n",
    "count = 0\n",
    "err_one = 0\n",
    "err_two = 0\n",
    "big = 0\n",
    "\n",
    "iterations = 100\n",
    "\n",
    "daq.update_params(**filter.get_params())\n",
    "daq.quantise_coeffs()\n",
    "sim.update_params(**filter.get_params())\n",
    "sim.quantise_coeffs()\n",
    "\n",
    "daq.run_zeroFIR()\n",
    "daq.run_poleFIR()\n",
    "daq.run_poleIIR()\n",
    "\n",
    "for _ in range(iterations):\n",
    "\n",
    "    daq.update_waveforms()\n",
    "    \n",
    "    sim.data = daq.adcBuffer[0] >> 4\n",
    "    sim.run_zeroFIR(quant=False)\n",
    "    sim.run_poleFIR(quant=True)\n",
    "    sim.run_poleIIR(quant=True)\n",
    "    \n",
    "    daq_output = daq.extract_biquad()\n",
    "    sim_output = sim.extract_biquad(quant=False)\n",
    "    diff_output = Waveform(daq_output.waveform - sim_output.waveform)\n",
    "    \n",
    "##For when we've got qunatisation    \n",
    "#     if diff_output.calc_rms() != 0:\n",
    "#         count+=1\n",
    "\n",
    "#         if diff_output.calc_rms()==0.04419417382415922:\n",
    "#             err_one+=1\n",
    "#         if diff_output.calc_rms()==0.0625:\n",
    "#             err_two+=1\n",
    "#         if diff_output.calc_rms()>0.0625:\n",
    "#             big +=1\n",
    "\n",
    "##For when we don't have quantisation, i.e. allowance of 4\n",
    "    if diff_output.calc_rms() > np.sqrt(2):\n",
    "        count+=1\n",
    "\n",
    "\n",
    "print('')\n",
    "print(f\"Total Error Count : {count}\")\n",
    "print(f\"Total Error Percentage : {100*count/iterations}%\")\n",
    "\n",
    "# print('')\n",
    "# print(f\"1 sample 1 off Count : {err_one}\")\n",
    "# print(f\"1 sample 1 off Percentage : {100*err_one/iterations}%\")\n",
    "\n",
    "# print('')\n",
    "# print(f\"1/2 sample 2/1 off Count : {err_two}\")\n",
    "# print(f\"1/2 sample 2/1 off Percentage : {100*err_two/iterations}%\")\n",
    "\n",
    "# print('')\n",
    "# print(f\"Effective Error Count : {big}\")\n",
    "# print('')\n",
    "# print(f\"Effective Error Percentage : {100*big/iterations}%\")\n",
    "\n",
    "# end_time = time.time()\n",
    "# print(f\"\\nTime taken: {end_time - start_time} seconds\")"
   ]
  },
  {
   "cell_type": "code",
   "execution_count": null,
   "id": "d64ae428-2ef7-49b4-abd0-8f2545cef7ec",
   "metadata": {},
   "outputs": [],
   "source": []
  },
  {
   "cell_type": "code",
   "execution_count": null,
   "id": "9de5613c-a0dd-49f8-b232-5c8274b0b65b",
   "metadata": {},
   "outputs": [],
   "source": []
  }
 ],
 "metadata": {
  "kernelspec": {
   "display_name": "Python 3 (ipykernel)",
   "language": "python",
   "name": "python3"
  },
  "language_info": {
   "codemirror_mode": {
    "name": "ipython",
    "version": 3
   },
   "file_extension": ".py",
   "mimetype": "text/x-python",
   "name": "python",
   "nbconvert_exporter": "python",
   "pygments_lexer": "ipython3",
   "version": "3.10.4"
  }
 },
 "nbformat": 4,
 "nbformat_minor": 5
}
