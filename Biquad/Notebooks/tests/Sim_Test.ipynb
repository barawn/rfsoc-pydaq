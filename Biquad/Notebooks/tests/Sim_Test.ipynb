{
 "cells": [
  {
   "cell_type": "code",
   "execution_count": 1,
   "id": "c6382d6d-8098-470b-a14b-598cff1f9dfa",
   "metadata": {},
   "outputs": [],
   "source": [
    "import sys, os\n",
    "\n",
    "sys.path.append(os.path.abspath(os.path.join(os.getcwd(), '..', '..')))\n",
    "sys.path.append(os.path.abspath(os.path.join(os.getcwd(), '..', '..', '..')))\n",
    "\n",
    "from RFSoC_Daq import RFSoC_Daq\n",
    "from Biquad import Biquad\n",
    "from SimBiquad import SimBiquad\n",
    "from Biquad_Daq import Biquad_Daq\n",
    "from Waveforms.Waveform import Waveform"
   ]
  },
  {
   "cell_type": "code",
   "execution_count": 2,
   "id": "6ec9c557-73f3-4a50-b239-708d204093c1",
   "metadata": {},
   "outputs": [
    {
     "name": "stderr",
     "output_type": "stream",
     "text": [
      "DEBUG:RFSoC_Daq:Asked to load overlay at /home/xilinx/python/zcumts.py\n",
      "DEBUG:RFSoC_Daq:Adding directory /home/xilinx/python to module search path\n",
      "DEBUG:RFSoC_Daq:Changing directory to /home/xilinx/python\n",
      "DEBUG:RFSoC_Daq:Going to try to import zcumts\n",
      "DEBUG:RFSoC_Daq:Found Overlay class Overlay from module pynq.overlay\n",
      "DEBUG:RFSoC_Daq:Found RFSoC overlay zcuMTS\n"
     ]
    },
    {
     "name": "stdout",
     "output_type": "stream",
     "text": [
      "Turning on SYNC\n",
      "Turning off SYNC\n"
     ]
    },
    {
     "data": {
      "application/javascript": [
       "\n",
       "try {\n",
       "require(['notebook/js/codecell'], function(codecell) {\n",
       "  codecell.CodeCell.options_default.highlight_modes[\n",
       "      'magic_text/x-csrc'] = {'reg':[/^%%microblaze/]};\n",
       "  Jupyter.notebook.events.one('kernel_ready.Kernel', function(){\n",
       "      Jupyter.notebook.get_cells().map(function(cell){\n",
       "          if (cell.cell_type == 'code'){ cell.auto_highlight(); } }) ;\n",
       "  });\n",
       "});\n",
       "} catch (e) {};\n"
      ]
     },
     "metadata": {},
     "output_type": "display_data"
    },
    {
     "data": {
      "application/javascript": [
       "\n",
       "try {\n",
       "require(['notebook/js/codecell'], function(codecell) {\n",
       "  codecell.CodeCell.options_default.highlight_modes[\n",
       "      'magic_text/x-csrc'] = {'reg':[/^%%pybind11/]};\n",
       "  Jupyter.notebook.events.one('kernel_ready.Kernel', function(){\n",
       "      Jupyter.notebook.get_cells().map(function(cell){\n",
       "          if (cell.cell_type == 'code'){ cell.auto_highlight(); } }) ;\n",
       "  });\n",
       "});\n",
       "} catch (e) {};\n"
      ]
     },
     "metadata": {},
     "output_type": "display_data"
    },
    {
     "name": "stderr",
     "output_type": "stream",
     "text": [
      "DEBUG:RFSoC_Daq:Created RFSoC device\n",
      "DEBUG:RFSoC_Daq:Restoring original module search path\n",
      "DEBUG:RFSoC_Daq:Going back to original directory /home/xilinx/rfsoc-rework/Biquad/Notebooks/tests\n"
     ]
    }
   ],
   "source": [
    "daq = Biquad_Daq()\n",
    "sim = SimBiquad()"
   ]
  },
  {
   "cell_type": "code",
   "execution_count": 3,
   "id": "6fd65212-f9d5-40e9-b43e-2b254c46c95c",
   "metadata": {},
   "outputs": [],
   "source": [
    "import pynq\n",
    "\n",
    "import numpy as np\n",
    "from ipywidgets import interact, interactive, fixed, interact_manual, HBox\n",
    "import ipywidgets as widgets\n",
    "from IPython.display import display, clear_output\n",
    "import matplotlib.pyplot as plt"
   ]
  },
  {
   "cell_type": "code",
   "execution_count": 4,
   "id": "752fe911-f900-4e17-812f-84b38b43f624",
   "metadata": {},
   "outputs": [],
   "source": [
    "def update_plot(A, B, P, theta):\n",
    "    \n",
    "    global daq_output\n",
    "    global sim_output\n",
    "    global diff_output\n",
    "    \n",
    "    Xn = [0, 0, 0, 0, 0, 0, 0]\n",
    "    Cross = [1, 0, 0, 0]\n",
    "    C = [0 ,0, 0, 0]\n",
    "    \n",
    "    daq.update_params(A, B, P, theta*np.pi)\n",
    "    \n",
    "    # daq.set_Xn(*Xn)\n",
    "    # daq.set_poleFIR(*Cross)\n",
    "    # daq.set_poleIIR(*C)\n",
    "    \n",
    "    daq.quantise_coeffs()\n",
    "    \n",
    "    daq.run_zeroFIR()\n",
    "    daq.run_poleFIR()\n",
    "    daq.run_poleIIR()\n",
    "    \n",
    "    daq.update_waveforms()\n",
    "    \n",
    "    sim.update_params(A, B, P, theta*np.pi)\n",
    "    \n",
    "    sim.data = daq.adcBuffer[0] >> 4\n",
    "    \n",
    "    # sim.set_Xn(*Xn)\n",
    "    # sim.set_poleFIR(*Cross)\n",
    "    # sim.set_poleIIR(*C)\n",
    "    \n",
    "    sim.quantise_coeffs()\n",
    "\n",
    "    sim.run_zeroFIR()\n",
    "    sim.run_poleFIR()\n",
    "    sim.run_poleIIR()\n",
    "    \n",
    "    daq_output = daq.extract_biquad()\n",
    "    sim_output = sim.extract_biquad()\n",
    "    diff_output = Waveform(daq_output.waveform - sim_output.waveform)\n",
    "    \n",
    "    fig, (axB,axS,axR) = plt.subplots(3, 1, figsize=(35, 15))\n",
    "        \n",
    "    daq_output.plotWaveform(axB, title=\"Biquaded ADC224_T0_CH0\")\n",
    "    \n",
    "    sim_output.plotWaveform(axS, title=\"Simulated Biquad\")\n",
    "    \n",
    "    diff_output.plotWaveform(axR, title=\"Difference\")\n",
    "    \n",
    "    plt.show()"
   ]
  },
  {
   "cell_type": "code",
   "execution_count": 5,
   "id": "ba54d926-a636-4476-b645-556ad1b3045e",
   "metadata": {},
   "outputs": [
    {
     "data": {
      "application/vnd.jupyter.widget-view+json": {
       "model_id": "c3cc9363f3174389befd9b8585de590e",
       "version_major": 2,
       "version_minor": 0
      },
      "text/plain": [
       "VBox(children=(HBox(children=(FloatSlider(value=1.75, continuous_update=False, description='A:', max=7.9, min=…"
      ]
     },
     "metadata": {},
     "output_type": "display_data"
    }
   ],
   "source": [
    "A_slider = widgets.FloatSlider(min=-8, max=7.9, step=0.05, value=1.75, description='A:', continuous_update=False)\n",
    "B_slider = widgets.FloatSlider(min=-8, max=7.9, step=0.05, value=2.95, description='B:', continuous_update=False)\n",
    "P_slider = widgets.FloatSlider(min=0, max=1, step=0.01, value=0.4, description='P:', continuous_update=False)\n",
    "Theta_slider = widgets.FloatSlider(min=0, max=1, step=0.01, value=0.67, description='Theta:', continuous_update=False)\n",
    "\n",
    "plot_output = widgets.Output()\n",
    "    \n",
    "def update(change):\n",
    "    with plot_output:\n",
    "        plot_output.clear_output(wait=True)\n",
    "        update_plot(A = A_slider.value, B = B_slider.value, P = P_slider.value, theta = Theta_slider.value)\n",
    "    \n",
    "A_slider.observe(update, names='value')\n",
    "B_slider.observe(update, names='value')\n",
    "P_slider.observe(update, names='value')\n",
    "Theta_slider.observe(update, names='value')\n",
    "\n",
    "# Layout\n",
    "slider_box = widgets.HBox([A_slider, B_slider, P_slider, Theta_slider])\n",
    "ui = widgets.VBox([slider_box, plot_output])\n",
    "\n",
    "# Display\n",
    "display(ui)\n",
    "\n",
    "# Initial plot\n",
    "update(None)"
   ]
  },
  {
   "cell_type": "code",
   "execution_count": 6,
   "id": "bf808dc0-710f-4b3e-9a44-fa3d2ee393b2",
   "metadata": {},
   "outputs": [
    {
     "name": "stdout",
     "output_type": "stream",
     "text": [
      "-6.103515625e-05\n",
      "-6.103515625e-05\n"
     ]
    }
   ],
   "source": [
    "print(daq.C0)\n",
    "print(sim.C0)"
   ]
  },
  {
   "cell_type": "code",
   "execution_count": 7,
   "id": "a516d0eb-6bed-4868-9b31-9db5e1bb41ec",
   "metadata": {},
   "outputs": [
    {
     "name": "stdout",
     "output_type": "stream",
     "text": [
      "570.0\n",
      "-758.0\n"
     ]
    }
   ],
   "source": [
    "print(np.max(sim_output))\n",
    "print(np.min(sim_output))"
   ]
  },
  {
   "cell_type": "code",
   "execution_count": 8,
   "id": "439dc070-2154-4a47-a4ad-a66ac42a9376",
   "metadata": {},
   "outputs": [
    {
     "name": "stdout",
     "output_type": "stream",
     "text": [
      "0.0\n",
      "0.0\n",
      "0\n",
      "-93\n",
      "-93.0\n",
      "0.0\n"
     ]
    }
   ],
   "source": [
    "print(np.max(diff_output))\n",
    "print(np.min(diff_output))\n",
    "print(np.argmax(diff_output))\n",
    "print(daq_output[32])\n",
    "print(sim_output[32])\n",
    "print(daq_output[32]-sim_output[32])"
   ]
  },
  {
   "cell_type": "code",
   "execution_count": 9,
   "id": "717336b3-eb3e-47dc-8bf7-734dbb81cab6",
   "metadata": {},
   "outputs": [
    {
     "name": "stdout",
     "output_type": "stream",
     "text": [
      "10.0\n"
     ]
    }
   ],
   "source": [
    "print(np.floor(10.9))"
   ]
  },
  {
   "cell_type": "code",
   "execution_count": null,
   "id": "8f8e34fa-c6cb-48e2-bfb4-fe7d1520d034",
   "metadata": {},
   "outputs": [],
   "source": []
  }
 ],
 "metadata": {
  "kernelspec": {
   "display_name": "Python 3 (ipykernel)",
   "language": "python",
   "name": "python3"
  },
  "language_info": {
   "codemirror_mode": {
    "name": "ipython",
    "version": 3
   },
   "file_extension": ".py",
   "mimetype": "text/x-python",
   "name": "python",
   "nbconvert_exporter": "python",
   "pygments_lexer": "ipython3",
   "version": "3.10.4"
  }
 },
 "nbformat": 4,
 "nbformat_minor": 5
}
