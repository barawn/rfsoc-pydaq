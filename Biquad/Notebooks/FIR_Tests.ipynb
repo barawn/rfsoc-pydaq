{
 "cells": [
  {
   "cell_type": "code",
   "execution_count": 1,
   "metadata": {},
   "outputs": [
    {
     "name": "stdout",
     "output_type": "stream",
     "text": [
      "Turning on SYNC\n",
      "Turning off SYNC\n"
     ]
    },
    {
     "data": {
      "application/javascript": [
       "\n",
       "try {\n",
       "require(['notebook/js/codecell'], function(codecell) {\n",
       "  codecell.CodeCell.options_default.highlight_modes[\n",
       "      'magic_text/x-csrc'] = {'reg':[/^%%microblaze/]};\n",
       "  Jupyter.notebook.events.one('kernel_ready.Kernel', function(){\n",
       "      Jupyter.notebook.get_cells().map(function(cell){\n",
       "          if (cell.cell_type == 'code'){ cell.auto_highlight(); } }) ;\n",
       "  });\n",
       "});\n",
       "} catch (e) {};\n"
      ]
     },
     "metadata": {},
     "output_type": "display_data"
    },
    {
     "data": {
      "application/javascript": [
       "\n",
       "try {\n",
       "require(['notebook/js/codecell'], function(codecell) {\n",
       "  codecell.CodeCell.options_default.highlight_modes[\n",
       "      'magic_text/x-csrc'] = {'reg':[/^%%pybind11/]};\n",
       "  Jupyter.notebook.events.one('kernel_ready.Kernel', function(){\n",
       "      Jupyter.notebook.get_cells().map(function(cell){\n",
       "          if (cell.cell_type == 'code'){ cell.auto_highlight(); } }) ;\n",
       "  });\n",
       "});\n",
       "} catch (e) {};\n"
      ]
     },
     "metadata": {},
     "output_type": "display_data"
    }
   ],
   "source": [
    "import sys\n",
    "import os\n",
    "\n",
    "\n",
    "sys.path.append(os.path.abspath(os.path.join(os.getcwd(), '..', '..')))\n",
    "\n",
    "from Biquad.Biquad_Daq import Biquad_Daq\n",
    "\n",
    "from Utils.PlotTools import PlottingTools as pt\n",
    "\n",
    "import numpy as np\n",
    "from ipywidgets import interact, interactive, fixed, interact_manual, HBox\n",
    "import ipywidgets as widgets\n",
    "from IPython.display import display, clear_output\n",
    "import matplotlib.pyplot as plt\n",
    "daq = Biquad_Daq(0,0,4, 2**10)"
   ]
  },
  {
   "cell_type": "code",
   "execution_count": 2,
   "metadata": {},
   "outputs": [],
   "source": [
    "daq.setA(1)\n",
    "daq.setB(0)\n",
    "daq.setP(0)\n",
    "daq.setTheta(np.pi)\n",
    "daq.setM(8)"
   ]
  },
  {
   "cell_type": "code",
   "execution_count": 3,
   "metadata": {},
   "outputs": [
    {
     "name": "stdout",
     "output_type": "stream",
     "text": [
      "-9.0\n",
      "-8.5\n",
      "-8.0\n",
      "-7.5\n",
      "-7.0\n",
      "-6.5\n",
      "-6.0\n",
      "-5.5\n",
      "-5.0\n",
      "-4.5\n",
      "-4.0\n",
      "-3.5\n",
      "-3.0\n",
      "-2.5\n",
      "-2.0\n",
      "-1.5\n",
      "-1.0\n",
      "-0.5\n",
      "0.0\n",
      "0.5\n",
      "1.0\n",
      "1.5\n",
      "2.0\n",
      "2.5\n",
      "3.0\n",
      "3.5\n",
      "4.0\n",
      "4.5\n",
      "5.0\n",
      "5.5\n",
      "6.0\n",
      "6.5\n",
      "7.0\n",
      "7.5\n",
      "8.0\n"
     ]
    },
    {
     "data": {
      "image/png": "[encoded data removed]",
      "text/plain": [
       "<Figure size 1800x720 with 2 Axes>"
      ]
     },
     "metadata": {
      "needs_background": "light"
     },
     "output_type": "display_data"
    }
   ],
   "source": [
    "arr = np.linspace(-9,8,35)\n",
    "\n",
    "result = []\n",
    "temp = []\n",
    "\n",
    "for i in arr:\n",
    "    daq.setA(i)\n",
    "    print(i)\n",
    "    for j in arr:\n",
    "        daq.setB(j)\n",
    "        daq.set_single_zero_fir()\n",
    "        daq.JupyterAcquire()\n",
    "        daq.waveforms[2].setPeaktoPeak()\n",
    "        daq.waveforms[2].setRMS()\n",
    "        temp.append(daq.waveforms[2].RMS)\n",
    "    result.append(temp)\n",
    "    temp = []\n",
    "    \n",
    "plt.figure(figsize=(25, 10))\n",
    "plt.imshow(result, cmap='viridis', interpolation='nearest')\n",
    "plt.colorbar()  # Show a colorbar\n",
    "plt.title('Amplitude ')\n",
    "plt.xlabel('B')\n",
    "plt.ylabel('A')\n",
    "plt.gca().invert_yaxis()\n",
    "plt.show()"
   ]
  },
  {
   "cell_type": "code",
   "execution_count": 4,
   "metadata": {},
   "outputs": [],
   "source": [
    "# result = []\n",
    "# temp = []\n",
    "# start = -7\n",
    "# end = 7\n",
    "\n",
    "# # for i in range(-1*start, (-1*end)-1, -1):\n",
    "# for i in range(start, end+1, 1):\n",
    "#     daq.setA(i)\n",
    "#     for j in range(start,end+1):\n",
    "#         daq.setB(j)\n",
    "#         daq.set_single_zero_fir()\n",
    "#         daq.sdv.write(0x00,1)\n",
    "#         daq.Acquire(2)\n",
    "#         daq.waveforms[2].setPeaktoPeak()\n",
    "#         daq.waveforms[2].setRMS()\n",
    "#         temp.append(daq.waveforms[2].RMS)\n",
    "#     result.append(temp)\n",
    "#     temp = []\n",
    "\n",
    "# plt.figure(figsize=(25, 10))\n",
    "# plt.imshow(result, cmap='viridis', interpolation='nearest', extent=[start-0.5,end+0.5,end+0.5,start-0.5])\n",
    "# plt.colorbar()  # Show a colorbar\n",
    "# plt.title('Amplitude ')\n",
    "# plt.xlabel('B')\n",
    "# plt.ylabel('A')\n",
    "# plt.gca().invert_yaxis()\n",
    "# plt.show()"
   ]
  }
 ],
 "metadata": {
  "kernelspec": {
   "display_name": "Python 3 (ipykernel)",
   "language": "python",
   "name": "python3"
  },
  "language_info": {
   "codemirror_mode": {
    "name": "ipython",
    "version": 3
   },
   "file_extension": ".py",
   "mimetype": "text/x-python",
   "name": "python",
   "nbconvert_exporter": "python",
   "pygments_lexer": "ipython3",
   "version": "3.10.4"
  }
 },
 "nbformat": 4,
 "nbformat_minor": 4
}
