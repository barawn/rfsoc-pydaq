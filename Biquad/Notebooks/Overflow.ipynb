{
 "cells": [
  {
   "cell_type": "code",
   "execution_count": 1,
   "id": "01786981-b912-4d7d-a4cd-1403dc1e044a",
   "metadata": {},
   "outputs": [],
   "source": [
    "import sys, os\n",
    "\n",
    "sys.path.append(os.path.abspath(os.path.join(os.getcwd(), '..')))\n",
    "sys.path.append(os.path.abspath(os.path.join(os.getcwd(), '..', '..')))\n",
    "\n",
    "from RFSoC_Daq import RFSoC_Daq\n",
    "from Biquad import Biquad\n",
    "from SimBiquad import SimBiquad\n",
    "from Biquad_Daq import Biquad_Daq\n",
    "from Filter import Filter\n",
    "\n",
    "from Waveforms.Waveform import Waveform"
   ]
  },
  {
   "cell_type": "code",
   "execution_count": 2,
   "id": "46c1553e-d36f-4854-8dda-e2503dfc476b",
   "metadata": {},
   "outputs": [
    {
     "name": "stderr",
     "output_type": "stream",
     "text": [
      "DEBUG:RFSoC_Daq:Asked to load overlay at /home/xilinx/python/zcumts.py\n",
      "DEBUG:RFSoC_Daq:Adding directory /home/xilinx/python to module search path\n",
      "DEBUG:RFSoC_Daq:Changing directory to /home/xilinx/python\n",
      "DEBUG:RFSoC_Daq:Going to try to import zcumts\n",
      "DEBUG:RFSoC_Daq:Found Overlay class Overlay from module pynq.overlay\n",
      "DEBUG:RFSoC_Daq:Found RFSoC overlay zcuMTS\n"
     ]
    },
    {
     "name": "stdout",
     "output_type": "stream",
     "text": [
      "Turning on SYNC\n",
      "Turning off SYNC\n"
     ]
    },
    {
     "data": {
      "application/javascript": [
       "\n",
       "try {\n",
       "require(['notebook/js/codecell'], function(codecell) {\n",
       "  codecell.CodeCell.options_default.highlight_modes[\n",
       "      'magic_text/x-csrc'] = {'reg':[/^%%microblaze/]};\n",
       "  Jupyter.notebook.events.one('kernel_ready.Kernel', function(){\n",
       "      Jupyter.notebook.get_cells().map(function(cell){\n",
       "          if (cell.cell_type == 'code'){ cell.auto_highlight(); } }) ;\n",
       "  });\n",
       "});\n",
       "} catch (e) {};\n"
      ]
     },
     "metadata": {},
     "output_type": "display_data"
    },
    {
     "data": {
      "application/javascript": [
       "\n",
       "try {\n",
       "require(['notebook/js/codecell'], function(codecell) {\n",
       "  codecell.CodeCell.options_default.highlight_modes[\n",
       "      'magic_text/x-csrc'] = {'reg':[/^%%pybind11/]};\n",
       "  Jupyter.notebook.events.one('kernel_ready.Kernel', function(){\n",
       "      Jupyter.notebook.get_cells().map(function(cell){\n",
       "          if (cell.cell_type == 'code'){ cell.auto_highlight(); } }) ;\n",
       "  });\n",
       "});\n",
       "} catch (e) {};\n"
      ]
     },
     "metadata": {},
     "output_type": "display_data"
    },
    {
     "name": "stderr",
     "output_type": "stream",
     "text": [
      "DEBUG:RFSoC_Daq:Created RFSoC device\n",
      "DEBUG:RFSoC_Daq:Restoring original module search path\n",
      "DEBUG:RFSoC_Daq:Going back to original directory /home/xilinx/rfsoc-pydaq/Biquad/Notebooks\n"
     ]
    }
   ],
   "source": [
    "daq = Biquad_Daq()\n",
    "sim = SimBiquad()\n",
    "filter = Filter()"
   ]
  },
  {
   "cell_type": "code",
   "execution_count": 4,
   "id": "4acf952a-a796-4c8d-ae26-90e2a4809fca",
   "metadata": {},
   "outputs": [],
   "source": [
    "import pynq\n",
    "\n",
    "import numpy as np\n",
    "from ipywidgets import interact, interactive, fixed, interact_manual, HBox\n",
    "import ipywidgets as widgets\n",
    "from IPython.display import display, clear_output\n",
    "import matplotlib.pyplot as plt"
   ]
  },
  {
   "cell_type": "code",
   "execution_count": 13,
   "id": "09b6423d-07f1-4354-8fea-37571bb92de2",
   "metadata": {},
   "outputs": [],
   "source": [
    "filter.calc_params(375)\n",
    "filter.A = 0\n",
    "\n",
    "coef = True\n",
    "zf = True\n",
    "pf = True\n",
    "pi = True\n",
    "ao = True"
   ]
  },
  {
   "cell_type": "code",
   "execution_count": 16,
   "id": "41335759-a020-4bb6-929e-63e64ff5deda",
   "metadata": {},
   "outputs": [],
   "source": [
    "def update_plot():\n",
    "    # daq.reset()\n",
    "    \n",
    "    daq.update_params(**filter.get_params())\n",
    "    daq.quantise_coeffs()\n",
    "    \n",
    "    daq.B = 1\n",
    "    \n",
    "    daq.generate_waveforms()\n",
    "    \n",
    "    sim.update_params(**filter.get_params())\n",
    "    if coef is True:\n",
    "        sim.quantise_coeffs()\n",
    "        \n",
    "    sim.B = 1\n",
    "        \n",
    "    sim.data = daq.adcBuffer[0] >> 4\n",
    "    \n",
    "    sim.run_zeroFIR(quant=zf)\n",
    "    sim.run_poleFIR(quant=pf)\n",
    "    sim.run_poleIIR(quant=pi)\n",
    "    \n",
    "    daq_input = daq.extract_raw()\n",
    "    daq_output = daq.extract_biquad()\n",
    "    sim_output = sim.extract_biquad(quant=ao)\n",
    "    diff_output = Waveform(daq_output.waveform - sim_output.waveform)\n",
    "    \n",
    "    fig, (axI, axB, axS, axR) = plt.subplots(4, 1, figsize=(35, 15))\n",
    "    \n",
    "    daq_input.plotWaveform(axI, title=\"Raw ADC224_T0_CH0\")\n",
    "    \n",
    "    daq_output.plotWaveform(axB, title=\"Biquaded ADC224_T0_CH0\")\n",
    "    \n",
    "    sim_output.plotWaveform(axS, title=\"Simulated Biquad\")\n",
    "    \n",
    "    diff_output.plotWaveform(axR, title=\"Difference\")\n",
    "    \n",
    "    plt.show()\n",
    "    print(filter)"
   ]
  },
  {
   "cell_type": "code",
   "execution_count": 17,
   "id": "a001f433-2440-43d7-b292-fc707fae2364",
   "metadata": {},
   "outputs": [
    {
     "data": {
      "application/vnd.jupyter.widget-view+json": {
       "model_id": "59b6cb09191a406eb9387af19c720b24",
       "version_major": 2,
       "version_minor": 0
      },
      "text/plain": [
       "VBox(children=(HBox(children=(FloatSlider(value=0.0, continuous_update=False, description='A:', max=4.0, min=-…"
      ]
     },
     "metadata": {},
     "output_type": "display_data"
    }
   ],
   "source": [
    "A_slider = widgets.FloatSlider(min=-4, max=4, step=0.05, value=filter.A, description='A:', continuous_update=False)\n",
    "P_slider = widgets.FloatSlider(min=0, max=1, step=0.05, value=filter.P, description='P:', continuous_update=False)\n",
    "Zero_slider = widgets.FloatSlider(min=200, max=1200, step=5, value=filter.fz, description='Zero:', continuous_update=False)\n",
    "Pole_slider = widgets.FloatSlider(min=1, max=1500, step=5, value=filter.fp, description='Pole:', continuous_update=False)\n",
    "\n",
    "plot_output = widgets.Output()\n",
    "\n",
    "# def update_plot():\n",
    "#     with plot_output:\n",
    "#         plot_output.clear_output(wait=True)\n",
    "#        print(f\"Plotting with: A={filter.A}, P={filter.P}, Zero={filter.fz}, Pole={filter.fp}\")\n",
    "\n",
    "def update_params(_=None):\n",
    "    with plot_output:\n",
    "        plot_output.clear_output(wait=True)\n",
    "        filter.fz = Zero_slider.value\n",
    "        filter.A = A_slider.value\n",
    "        filter.P = P_slider.value\n",
    "        filter.fp = Pole_slider.value\n",
    "        update_plot()\n",
    "\n",
    "def update(change):\n",
    "    with plot_output:\n",
    "        plot_output.clear_output(wait=True)\n",
    "        if change['owner'] == Zero_slider:\n",
    "            filter.fz = Zero_slider.value\n",
    "            A_slider.value = filter.A\n",
    "            P_slider.value = filter.P\n",
    "            Pole_slider.value = filter.fp\n",
    "        update_plot()\n",
    "        \n",
    "update_button = widgets.Button(description=\"Update Plot\")\n",
    "\n",
    "update_button.on_click(update_params)\n",
    "        \n",
    "Zero_slider.observe(update, names='value')\n",
    "\n",
    "# Layout\n",
    "slider_box = widgets.HBox([A_slider, P_slider, Zero_slider, Pole_slider, update_button])\n",
    "ui = widgets.VBox([slider_box, plot_output])\n",
    "\n",
    "# Display\n",
    "display(ui)\n",
    "\n",
    "# Initial plot\n",
    "update_params()"
   ]
  },
  {
   "cell_type": "code",
   "execution_count": 26,
   "id": "5082b2dd-4367-4da7-b1b4-8adfe7a8585b",
   "metadata": {},
   "outputs": [
    {
     "name": "stdout",
     "output_type": "stream",
     "text": [
      "first sample : 499\n",
      "daq output : 498\n",
      "sim output : 499.0\n"
     ]
    }
   ],
   "source": [
    "print(f'first sample : {daq.adcBuffer[0][35*8] >> 4}')\n",
    "# print(daq.adcBuffer[0][35*8+1] >> 4)\n",
    "print(f'daq output : {daq.extract_biquad()[1]}')\n",
    "print(f'sim output : {sim.extract_biquad()[1]}')"
   ]
  },
  {
   "cell_type": "code",
   "execution_count": 7,
   "id": "a4f909d1-47c6-4453-a5a6-1c9c579e694c",
   "metadata": {},
   "outputs": [],
   "source": [
    "zf = False\n",
    "pf = True\n",
    "pi = True"
   ]
  },
  {
   "cell_type": "code",
   "execution_count": 8,
   "id": "829bd729-06b3-407f-b6e8-4bf693f9e75a",
   "metadata": {},
   "outputs": [],
   "source": [
    "p2p_arr = []\n",
    "err_arr = []"
   ]
  },
  {
   "cell_type": "code",
   "execution_count": 9,
   "id": "f11e551e-3dd9-4c6f-9b92-03650b59f870",
   "metadata": {},
   "outputs": [],
   "source": [
    "iterations = 10\n",
    "\n",
    "for _ in range(iterations):\n",
    "    daq.update_waveforms()\n",
    "    \n",
    "    sim.data = daq.adcBuffer[0] >> 4\n",
    "    sim.run_zeroFIR(quant=zf)\n",
    "    sim.run_poleFIR(quant=pf)\n",
    "    sim.run_poleIIR(quant=pi)\n",
    "    \n",
    "    daq_input = daq.extract_raw()\n",
    "    daq_output = daq.extract_biquad()\n",
    "    sim_output = sim.extract_biquad(quant=False)\n",
    "    diff_output = Waveform(daq_output.waveform - sim_output.waveform)\n",
    "    \n",
    "    p2p_arr.append(daq_input.calc_PtP())\n",
    "    err_arr.append(2*diff_output.calc_rms())"
   ]
  },
  {
   "cell_type": "code",
   "execution_count": 10,
   "id": "589283a9-c91d-43c6-aba5-9a7a44cb75a3",
   "metadata": {},
   "outputs": [
    {
     "data": {
      "image/png": "[encoded data removed]",
      "text/plain": [
       "<Figure size 2520x1080 with 1 Axes>"
      ]
     },
     "metadata": {
      "needs_background": "light"
     },
     "output_type": "display_data"
    }
   ],
   "source": [
    "fig, ax = plt.subplots(figsize=(35, 15))\n",
    "\n",
    "ax.scatter(p2p_arr, err_arr)\n",
    "ax.set_xlabel(\"Peak to Peak measurement (ADC counts)\")\n",
    "ax.set_ylabel(\"Error RMS reading (ADC counts)\")\n",
    "\n",
    "ax.set_title(\"Error magnitude vs input magnitude\")\n",
    "\n",
    "ax.text(0.15, 0.50, filter.__str__(), verticalalignment='top', horizontalalignment='right',\n",
    "        transform=ax.transAxes, bbox=dict(facecolor='white', alpha=0.5), fontsize=16)\n",
    "\n",
    "plt.show()"
   ]
  },
  {
   "cell_type": "code",
   "execution_count": 11,
   "id": "69bc86ca-543b-4d38-be4a-8cd8f9fde0db",
   "metadata": {},
   "outputs": [
    {
     "name": "stdout",
     "output_type": "stream",
     "text": [
      "Parameters : \n",
      "A = 0.912\n",
      "B = -1.041\n",
      "P = 0.908\n",
      "theta = 0.960\n",
      "\n",
      "Spectra : \n",
      "Zero = 460.000 MHz\n",
      "Pole = 458.438 MHz\n"
     ]
    }
   ],
   "source": [
    "filter.calc_params(460)\n",
    "print(filter)"
   ]
  },
  {
   "cell_type": "code",
   "execution_count": null,
   "id": "7f2fd601-fd24-4979-a4b9-9cd78aafdaa8",
   "metadata": {},
   "outputs": [],
   "source": []
  }
 ],
 "metadata": {
  "kernelspec": {
   "display_name": "Python 3 (ipykernel)",
   "language": "python",
   "name": "python3"
  },
  "language_info": {
   "codemirror_mode": {
    "name": "ipython",
    "version": 3
   },
   "file_extension": ".py",
   "mimetype": "text/x-python",
   "name": "python",
   "nbconvert_exporter": "python",
   "pygments_lexer": "ipython3",
   "version": "3.10.4"
  }
 },
 "nbformat": 4,
 "nbformat_minor": 5
}
