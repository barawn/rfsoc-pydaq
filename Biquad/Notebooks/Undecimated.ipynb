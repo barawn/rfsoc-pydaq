{
 "cells": [
  {
   "cell_type": "code",
   "execution_count": 2,
   "id": "8eb3a9d0-c1d8-4161-aa24-036bce493530",
   "metadata": {},
   "outputs": [
    {
     "name": "stdout",
     "output_type": "stream",
     "text": [
      "Python 3.10.4\n",
      "3.10.4 (main, Apr  2 2022, 09:04:19) [GCC 11.2.0]\n"
     ]
    },
    {
     "ename": "TypeError",
     "evalue": "metaclass conflict: the metaclass of a derived class must be a (non-strict) subclass of the metaclasses of all its bases",
     "output_type": "error",
     "traceback": [
      "\u001b[0;31m---------------------------------------------------------------------------\u001b[0m",
      "\u001b[0;31mTypeError\u001b[0m                                 Traceback (most recent call last)",
      "Input \u001b[0;32mIn [2]\u001b[0m, in \u001b[0;36m<cell line: 21>\u001b[0;34m()\u001b[0m\n\u001b[1;32m     19\u001b[0m \u001b[38;5;28;01mfrom\u001b[39;00m \u001b[38;5;21;01mRFSoC_Daq\u001b[39;00m \u001b[38;5;28;01mimport\u001b[39;00m RFSoC_Daq\n\u001b[1;32m     20\u001b[0m \u001b[38;5;28;01mfrom\u001b[39;00m \u001b[38;5;21;01mBiquad\u001b[39;00m \u001b[38;5;28;01mimport\u001b[39;00m Biquad\n\u001b[0;32m---> 21\u001b[0m \u001b[38;5;28;01mfrom\u001b[39;00m \u001b[38;5;21;01mBiquad_Daq\u001b[39;00m \u001b[38;5;28;01mimport\u001b[39;00m Biquad_Daq\n\u001b[1;32m     22\u001b[0m \u001b[38;5;28;01mfrom\u001b[39;00m \u001b[38;5;21;01mSimBiquad\u001b[39;00m \u001b[38;5;28;01mimport\u001b[39;00m SimBiquad\n\u001b[1;32m     24\u001b[0m \u001b[38;5;28;01mfrom\u001b[39;00m \u001b[38;5;21;01mUtils\u001b[39;00m\u001b[38;5;21;01m.\u001b[39;00m\u001b[38;5;21;01mPlotTools\u001b[39;00m \u001b[38;5;28;01mimport\u001b[39;00m PlottingTools \u001b[38;5;28;01mas\u001b[39;00m pt\n",
      "File \u001b[0;32m/home/xilinx/rfsoc-pydaq/Biquad/Biquad_Daq.py:25\u001b[0m, in \u001b[0;36m<module>\u001b[0;34m\u001b[0m\n\u001b[1;32m     21\u001b[0m \u001b[38;5;28;01mfrom\u001b[39;00m \u001b[38;5;21;01mWaveforms\u001b[39;00m\u001b[38;5;21;01m.\u001b[39;00m\u001b[38;5;21;01mGated\u001b[39;00m \u001b[38;5;28;01mimport\u001b[39;00m Gated\n\u001b[1;32m     23\u001b[0m logger \u001b[38;5;241m=\u001b[39m logging\u001b[38;5;241m.\u001b[39mgetLogger(\u001b[38;5;18m__name__\u001b[39m)\n\u001b[0;32m---> 25\u001b[0m \u001b[38;5;28;01mclass\u001b[39;00m \u001b[38;5;21;01mBiquad_Daq\u001b[39;00m(RFSoC_Daq, Biquad):\n\u001b[1;32m     26\u001b[0m     \u001b[38;5;28;01mdef\u001b[39;00m \u001b[38;5;21m__init__\u001b[39m(\u001b[38;5;28mself\u001b[39m, root: tk\u001b[38;5;241m.\u001b[39mTk \u001b[38;5;241m=\u001b[39m \u001b[38;5;28;01mNone\u001b[39;00m, frame: tk\u001b[38;5;241m.\u001b[39mFrame \u001b[38;5;241m=\u001b[39m \u001b[38;5;28;01mNone\u001b[39;00m, \n\u001b[1;32m     27\u001b[0m                  numChannels: \u001b[38;5;28mint\u001b[39m \u001b[38;5;241m=\u001b[39m \u001b[38;5;241m4\u001b[39m, numSamples: \u001b[38;5;28mint\u001b[39m \u001b[38;5;241m=\u001b[39m \u001b[38;5;241m2\u001b[39m\u001b[38;5;241m*\u001b[39m\u001b[38;5;241m*\u001b[39m\u001b[38;5;241m10\u001b[39m, \n\u001b[1;32m     28\u001b[0m                  channelName \u001b[38;5;241m=\u001b[39m [\u001b[38;5;124m\"\u001b[39m\u001b[38;5;124m\"\u001b[39m,\u001b[38;5;124m\"\u001b[39m\u001b[38;5;124m\"\u001b[39m,\u001b[38;5;124m\"\u001b[39m\u001b[38;5;124m\"\u001b[39m,\u001b[38;5;124m\"\u001b[39m\u001b[38;5;124m\"\u001b[39m,\u001b[38;5;124m\"\u001b[39m\u001b[38;5;124m\"\u001b[39m,\u001b[38;5;124m\"\u001b[39m\u001b[38;5;124m\"\u001b[39m,\u001b[38;5;124m\"\u001b[39m\u001b[38;5;124m\"\u001b[39m,\u001b[38;5;124m\"\u001b[39m\u001b[38;5;124m\"\u001b[39m], A\u001b[38;5;241m=\u001b[39m\u001b[38;5;241m0\u001b[39m, B\u001b[38;5;241m=\u001b[39m\u001b[38;5;241m1\u001b[39m, P\u001b[38;5;241m=\u001b[39m\u001b[38;5;241m0\u001b[39m, theta\u001b[38;5;241m=\u001b[39mnp\u001b[38;5;241m.\u001b[39mpi):\n\u001b[1;32m     29\u001b[0m         RFSoC_Daq\u001b[38;5;241m.\u001b[39m\u001b[38;5;21m__init__\u001b[39m(\u001b[38;5;28mself\u001b[39m, root, frame, numChannels, numSamples, channelName)\n",
      "\u001b[0;31mTypeError\u001b[0m: metaclass conflict: the metaclass of a derived class must be a (non-strict) subclass of the metaclasses of all its bases"
     ]
    }
   ],
   "source": [
    "import sys\n",
    "import os\n",
    "\n",
    "import pynq\n",
    "\n",
    "import numpy as np\n",
    "from ipywidgets import interact, interactive, fixed, interact_manual, HBox\n",
    "import ipywidgets as widgets\n",
    "from IPython.display import display, clear_output\n",
    "import matplotlib.pyplot as plt\n",
    "\n",
    "sys.path.append(os.path.abspath(os.path.join(os.getcwd(), '..', '..')))\n",
    "sys.path.append(os.path.abspath(os.path.join(os.getcwd(), '..')))\n",
    "\n",
    "!python --version\n",
    "\n",
    "print(sys.version)\n",
    "\n",
    "from RFSoC_Daq import RFSoC_Daq\n",
    "from Biquad import Biquad\n",
    "from Biquad_Daq import Biquad_Daq\n",
    "from SimBiquad import SimBiquad\n",
    "\n",
    "from Utils.PlotTools import PlottingTools as pt\n",
    "\n",
    "from Waveforms.Waveform import Waveform\n",
    "from Waveforms.Gated import Gated\n",
    "from Waveforms.Filterred import Filterred"
   ]
  },
  {
   "cell_type": "code",
   "execution_count": null,
   "id": "b9081533-ea2a-4d76-97e2-95842adec9cd",
   "metadata": {},
   "outputs": [],
   "source": [
    "daq = RFSoC_Daq(None, None, 4, 2**10)"
   ]
  },
  {
   "cell_type": "code",
   "execution_count": null,
   "id": "014435a5-7fc5-483f-9063-d853a6afbb3d",
   "metadata": {},
   "outputs": [],
   "source": [
    "def update_plot(A, B, P, theta):\n",
    "    daq.reset()\n",
    "    \n",
    "    daq.setA(A)\n",
    "    daq.setB(B)\n",
    "    daq.setP(P)\n",
    "    daq.setTheta(np.pi*theta)\n",
    "    \n",
    "    daq.run_Biquad()\n",
    "    daq.JupyterAcquire()\n",
    "    \n",
    "    daq.waveforms[0].setRMS()\n",
    "    amp = daq.waveforms[0].RMS\n",
    "    \n",
    "    biquad = SimBiquad(data=daq.adcBuffer[0] >> 4, A=A, B=B, P=P, theta=np.pi*theta)  \n",
    "    biquad.set_daq_coeffs(daq.get_coeffs())\n",
    "    \n",
    "    biquad.single_zero_fir()     #.get_u()\n",
    "    biquad.first_constants()    #.get_decimated1()\n",
    "    biquad.second_constants()    #.get_decimated2()\n",
    "    biquad.IIR_calculation()   #get_decimated\n",
    "    biquad.incremental() #get_biquad()\n",
    "        \n",
    "    sim_output = biquad.get_biquad()\n",
    "    \n",
    "    fig, ((axB,axS,axR),(ax0, ax1, ax2)) = plt.subplots(2, 3, figsize=(35, 15))\n",
    "        \n",
    "    daq.waveforms[2].plotWaveform(axB, title=\"Biquaded ADC224_T0_CH0\")\n",
    "    daq.waveforms[2].plotFFT(ax0, title=\"Biquaded FFT\")\n",
    "    \n",
    "    sim_output.plotWaveform(axS, title=\"Simulated Biquad\")\n",
    "    sim_output.plotFFT(ax1, title=\"Simulated FFT\")\n",
    "    \n",
    "    daq.waveforms[0].plotWaveform(axR, title=\"Raw ADC224_T0_CH0\")\n",
    "    daq.waveforms[0].plotFFT(ax2, title=\"Raw FFT\")\n",
    "    \n",
    "    plt.show()\n",
    "    \n",
    "    \n",
    "A_slider = widgets.FloatSlider(min=-8, max=7.9, step=0.05, value=0.91187514, description='A:', continuous_update=False)\n",
    "B_slider = widgets.FloatSlider(min=-8, max=7.9, step=0.05, value=-1.04083903, description='B:', continuous_update=False)\n",
    "P_slider = widgets.FloatSlider(min=0, max=1, step=0.01, value=0.9076069015316293, description='P:', continuous_update=False)\n",
    "Theta_slider = widgets.FloatSlider(min=0, max=2, step=0.01, value=0.9601495285661642/np.pi, description='Theta:', continuous_update=False)\n",
    "\n",
    "# Create interactive plot\n",
    "plot_output = widgets.Output()\n",
    "    \n",
    "def update(change):\n",
    "    with plot_output:\n",
    "        plot_output.clear_output(wait=True)\n",
    "        update_plot(A_slider.value, B_slider.value, P_slider.value, Theta_slider.value)\n",
    "    \n",
    "A_slider.observe(update, names='value')\n",
    "B_slider.observe(update, names='value')\n",
    "P_slider.observe(update, names='value')\n",
    "Theta_slider.observe(update, names='value')\n",
    "\n",
    "# Layout\n",
    "slider_box = widgets.HBox([A_slider, B_slider, P_slider, Theta_slider])\n",
    "ui = widgets.VBox([slider_box, plot_output])\n",
    "\n",
    "# Display\n",
    "display(ui)\n",
    "\n",
    "# Initial plot\n",
    "update(None)"
   ]
  },
  {
   "cell_type": "code",
   "execution_count": null,
   "id": "73b841ad-b966-4c89-8cbe-181a7ae01130",
   "metadata": {},
   "outputs": [],
   "source": []
  },
  {
   "cell_type": "code",
   "execution_count": null,
   "id": "8d95285d-14f7-4c7a-baee-8f08a004ab81",
   "metadata": {},
   "outputs": [],
   "source": []
  },
  {
   "cell_type": "code",
   "execution_count": null,
   "id": "becc0d8d-83b1-45af-9244-b0f1c52db07c",
   "metadata": {},
   "outputs": [],
   "source": []
  },
  {
   "cell_type": "code",
   "execution_count": null,
   "id": "b558d8e0-1004-4d38-a5e7-5c1421f84536",
   "metadata": {},
   "outputs": [],
   "source": []
  },
  {
   "cell_type": "code",
   "execution_count": null,
   "id": "3427d7b7-1c70-46c6-abbc-d74eb3415bd7",
   "metadata": {},
   "outputs": [],
   "source": []
  },
  {
   "cell_type": "code",
   "execution_count": null,
   "id": "cad76f80-0a67-4596-94d8-a88f9bc622ce",
   "metadata": {},
   "outputs": [],
   "source": []
  }
 ],
 "metadata": {
  "kernelspec": {
   "display_name": "Python 3 (ipykernel)",
   "language": "python",
   "name": "python3"
  },
  "language_info": {
   "codemirror_mode": {
    "name": "ipython",
    "version": 3
   },
   "file_extension": ".py",
   "mimetype": "text/x-python",
   "name": "python",
   "nbconvert_exporter": "python",
   "pygments_lexer": "ipython3",
   "version": "3.10.4"
  }
 },
 "nbformat": 4,
 "nbformat_minor": 5
}
