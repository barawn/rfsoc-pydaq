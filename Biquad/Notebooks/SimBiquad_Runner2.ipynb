{
 "cells": [
  {
   "cell_type": "code",
   "execution_count": 1,
   "metadata": {
    "extensions": {
     "jupyter_dashboards": {
      "activeView": "grid_default",
      "views": {
       "grid_default": {
        "col": null,
        "height": 2,
        "hidden": true,
        "locked": true,
        "row": null,
        "width": 2
       }
      }
     }
    }
   },
   "outputs": [],
   "source": [
    "import sys\n",
    "import os\n",
    "\n",
    "import pynq\n",
    "\n",
    "import numpy as np\n",
    "from ipywidgets import interact, interactive, fixed, interact_manual, HBox\n",
    "import ipywidgets as widgets\n",
    "from IPython.display import display, clear_output\n",
    "import matplotlib.pyplot as plt\n",
    "\n",
    "sys.path.append(os.path.abspath(os.path.join(os.getcwd(), '..', '..')))\n",
    "\n",
    "from Biquad.Biquad_Daq import Biquad_Daq\n",
    "from Biquad.SimBiquad import SimBiquad\n",
    "\n",
    "from Utils.PlotTools import PlottingTools as pt\n",
    "\n",
    "from Waveforms.Waveform import Waveform\n",
    "from Waveforms.Gated import Gated\n",
    "from Waveforms.Filterred import Filterred"
   ]
  },
  {
   "cell_type": "code",
   "execution_count": 2,
   "metadata": {
    "extensions": {
     "jupyter_dashboards": {
      "activeView": "grid_default",
      "views": {
       "grid_default": {
        "col": null,
        "height": 2,
        "hidden": true,
        "locked": true,
        "row": null,
        "width": 2
       }
      }
     }
    }
   },
   "outputs": [
    {
     "name": "stdout",
     "output_type": "stream",
     "text": [
      "Turning on SYNC\n",
      "Turning off SYNC\n"
     ]
    },
    {
     "data": {
      "application/javascript": [
       "\n",
       "try {\n",
       "require(['notebook/js/codecell'], function(codecell) {\n",
       "  codecell.CodeCell.options_default.highlight_modes[\n",
       "      'magic_text/x-csrc'] = {'reg':[/^%%microblaze/]};\n",
       "  Jupyter.notebook.events.one('kernel_ready.Kernel', function(){\n",
       "      Jupyter.notebook.get_cells().map(function(cell){\n",
       "          if (cell.cell_type == 'code'){ cell.auto_highlight(); } }) ;\n",
       "  });\n",
       "});\n",
       "} catch (e) {};\n"
      ]
     },
     "metadata": {},
     "output_type": "display_data"
    },
    {
     "data": {
      "application/javascript": [
       "\n",
       "try {\n",
       "require(['notebook/js/codecell'], function(codecell) {\n",
       "  codecell.CodeCell.options_default.highlight_modes[\n",
       "      'magic_text/x-csrc'] = {'reg':[/^%%pybind11/]};\n",
       "  Jupyter.notebook.events.one('kernel_ready.Kernel', function(){\n",
       "      Jupyter.notebook.get_cells().map(function(cell){\n",
       "          if (cell.cell_type == 'code'){ cell.auto_highlight(); } }) ;\n",
       "  });\n",
       "});\n",
       "} catch (e) {};\n"
      ]
     },
     "metadata": {},
     "output_type": "display_data"
    }
   ],
   "source": [
    "daq = Biquad_Daq(None, None, 4, 2**10)"
   ]
  },
  {
   "cell_type": "code",
   "execution_count": 3,
   "metadata": {
    "extensions": {
     "jupyter_dashboards": {
      "activeView": "grid_default",
      "views": {
       "grid_default": {
        "col": null,
        "height": 2,
        "hidden": true,
        "locked": true,
        "row": null,
        "width": 2
       }
      }
     }
    },
    "tags": []
   },
   "outputs": [],
   "source": [
    "def update_plot(daq, A, B, P, theta):\n",
    "    fig, (axD,axS) = plt.subplots(2, 1, figsize=(25, 20))\n",
    "    \n",
    "    daq.reset()\n",
    "    \n",
    "    daq.setA(A)\n",
    "    daq.setB(B)\n",
    "    daq.setP(P)\n",
    "    daq.setTheta(np.pi*theta)\n",
    "    \n",
    "    \n",
    "    daq.set_single_zero_fir()\n",
    "    daq.set_f_fir(0)\n",
    "    daq.set_g_fir(0)\n",
    "    # daq.set_F_fir()\n",
    "    # daq.set_G_fir()\n",
    "    # daq.set_pole_coef()\n",
    "    # daq.set_incremental()\n",
    "\n",
    "    daq.JupyterAcquire()\n",
    "    \n",
    "    daq.waveforms[0].setRMS()\n",
    "    amp = daq.waveforms[0].RMS\n",
    "    \n",
    "    biquad = SimBiquad(data=daq.adcBuffer[0] >> 4, A=A, B=B, P=P, theta=np.pi*theta, amp = amp)  \n",
    "    biquad.set_daq_coeffs(daq.get_coeffs())\n",
    "    \n",
    "    biquad.single_zero_fir()     #.get_u()\n",
    "    biquad.first_constants()    #.get_decimated1()\n",
    "    biquad.second_constants()    #.get_decimated2()\n",
    "    biquad.IIR_calculation()   #get_decimated\n",
    "    # biquad.implementation() #get_biquad()\n",
    "        \n",
    "    sim_output = biquad.get_decimated1()\n",
    "    \n",
    "    ##This needs to be rewritten because I've 'automated' the setting of the waveform classes\n",
    "    # diff_output = Filterred(np.array(daq.waveforms[2].waveform)-biquad.get_decimated1()[280:880], 0, None)\n",
    "    \n",
    "    daq.waveforms[2].plotWaveform(axD, title=\"Biquaded ADC224_T0_CH0\")\n",
    "    sim_output.plotWaveform(axS, title=\"Simulated Biquad\")\n",
    "    \n",
    "    \n",
    "    \n",
    "    # print(sim_output.calc_Lambda() * sim_output.R_f() * amp)\n",
    "    # print(sim_output.calc_Lambda() * sim_output.R_g() * amp)\n",
    "    print(sim_output.calc_Lambda() * sim_output.Average_R_fg() * amp)\n",
    "    \n",
    "    daq.waveforms[2].setRMS()\n",
    "    print(daq.waveforms[2].RMS)\n",
    "    \n",
    "    # daq.printParams()\n",
    "    # print('')\n",
    "    # daq.printCoeffs()\n",
    "        \n",
    "    plt.show()"
   ]
  },
  {
   "cell_type": "code",
   "execution_count": 4,
   "metadata": {
    "extensions": {
     "jupyter_dashboards": {
      "activeView": "grid_default",
      "views": {
       "grid_default": {
        "col": null,
        "height": 2,
        "hidden": true,
        "locked": true,
        "row": null,
        "width": 2
       }
      }
     }
    }
   },
   "outputs": [
    {
     "data": {
      "application/vnd.jupyter.widget-view+json": {
       "model_id": "32e0cf01ed644343b5ed391b697fb2ba",
       "version_major": 2,
       "version_minor": 0
      },
      "text/plain": [
       "VBox(children=(HBox(children=(FloatSlider(value=1.0, continuous_update=False, description='A:', max=7.9, min=-…"
      ]
     },
     "metadata": {},
     "output_type": "display_data"
    }
   ],
   "source": [
    "A_slider = widgets.FloatSlider(min=-8, max=7.9, step=0.1, value=1, description='A:', continuous_update=False)\n",
    "B_slider = widgets.FloatSlider(min=-8, max=7.9, step=0.1, value=1, description='B:', continuous_update=False)\n",
    "P_slider = widgets.FloatSlider(min=0, max=0.99, step=0.01, value=0.62, description='P:', continuous_update=False)\n",
    "Theta_slider = widgets.FloatSlider(min=0, max=2, step=0.01, value=0.95, description='Theta:', continuous_update=False)\n",
    "    \n",
    "plot_output = widgets.Output()\n",
    "\n",
    "def update(change):\n",
    "    with plot_output:\n",
    "        plot_output.clear_output(wait=True)\n",
    "        update_plot(daq, A_slider.value, B_slider.value, P_slider.value, Theta_slider.value)\n",
    "    \n",
    "A_slider.observe(update, names='value')\n",
    "B_slider.observe(update, names='value')\n",
    "P_slider.observe(update, names='value')\n",
    "Theta_slider.observe(update, names='value')\n",
    "\n",
    "slider_box = widgets.HBox([A_slider, B_slider, P_slider, Theta_slider])\n",
    "ui = widgets.VBox([slider_box, plot_output])\n",
    "\n",
    "display(ui)\n",
    "\n",
    "# Initial plot\n",
    "update(None)"
   ]
  },
  {
   "cell_type": "code",
   "execution_count": 5,
   "metadata": {},
   "outputs": [],
   "source": [
    "# A=1\n",
    "# B=1\n",
    "# P=0.62\n",
    "# Theta=0.95\n",
    "# The predicted amplituded isn't resolving properly"
   ]
  },
  {
   "cell_type": "code",
   "execution_count": null,
   "metadata": {},
   "outputs": [],
   "source": []
  }
 ],
 "metadata": {
  "extensions": {
   "jupyter_dashboards": {
    "activeView": "grid_default",
    "version": 1,
    "views": {
     "grid_default": {
      "cellMargin": 2,
      "defaultCellHeight": 40,
      "maxColumns": 12,
      "name": "grid",
      "type": "grid"
     }
    }
   }
  },
  "kernelspec": {
   "display_name": "Python 3 (ipykernel)",
   "language": "python",
   "name": "python3"
  },
  "language_info": {
   "codemirror_mode": {
    "name": "ipython",
    "version": 3
   },
   "file_extension": ".py",
   "mimetype": "text/x-python",
   "name": "python",
   "nbconvert_exporter": "python",
   "pygments_lexer": "ipython3",
   "version": "3.10.4"
  }
 },
 "nbformat": 4,
 "nbformat_minor": 4
}
