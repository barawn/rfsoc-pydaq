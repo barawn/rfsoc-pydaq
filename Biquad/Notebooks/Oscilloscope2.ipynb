{
 "cells": [
  {
   "cell_type": "code",
   "execution_count": 1,
   "id": "e3c5c2d8-d2f1-41da-80df-1e9804dbae70",
   "metadata": {},
   "outputs": [],
   "source": [
    "import sys, os\n",
    "\n",
    "sys.path.append(os.path.abspath(os.path.join(os.getcwd(), '..')))\n",
    "sys.path.append(os.path.abspath(os.path.join(os.getcwd(), '..', '..')))\n",
    "\n",
    "from RFSoC_Daq import RFSoC_Daq\n",
    "from Biquad import Biquad\n",
    "from SimBiquad import SimBiquad\n",
    "from Biquad_Daq import Biquad_Daq\n",
    "from Filter import Filter\n"
   ]
  },
  {
   "cell_type": "code",
   "execution_count": 2,
   "id": "52d02d34-fd57-4044-838e-0ae255708a55",
   "metadata": {},
   "outputs": [
    {
     "name": "stderr",
     "output_type": "stream",
     "text": [
      "DEBUG:RFSoC_Daq:Asked to load overlay at /home/xilinx/python/zcumts.py\n",
      "DEBUG:RFSoC_Daq:Adding directory /home/xilinx/python to module search path\n",
      "DEBUG:RFSoC_Daq:Changing directory to /home/xilinx/python\n",
      "DEBUG:RFSoC_Daq:Going to try to import zcumts\n",
      "DEBUG:RFSoC_Daq:Found Overlay class Overlay from module pynq.overlay\n",
      "DEBUG:RFSoC_Daq:Found RFSoC overlay zcuMTS\n"
     ]
    },
    {
     "name": "stdout",
     "output_type": "stream",
     "text": [
      "Turning on SYNC\n",
      "Turning off SYNC\n"
     ]
    },
    {
     "data": {
      "application/javascript": [
       "\n",
       "try {\n",
       "require(['notebook/js/codecell'], function(codecell) {\n",
       "  codecell.CodeCell.options_default.highlight_modes[\n",
       "      'magic_text/x-csrc'] = {'reg':[/^%%microblaze/]};\n",
       "  Jupyter.notebook.events.one('kernel_ready.Kernel', function(){\n",
       "      Jupyter.notebook.get_cells().map(function(cell){\n",
       "          if (cell.cell_type == 'code'){ cell.auto_highlight(); } }) ;\n",
       "  });\n",
       "});\n",
       "} catch (e) {};\n"
      ]
     },
     "metadata": {},
     "output_type": "display_data"
    },
    {
     "data": {
      "application/javascript": [
       "\n",
       "try {\n",
       "require(['notebook/js/codecell'], function(codecell) {\n",
       "  codecell.CodeCell.options_default.highlight_modes[\n",
       "      'magic_text/x-csrc'] = {'reg':[/^%%pybind11/]};\n",
       "  Jupyter.notebook.events.one('kernel_ready.Kernel', function(){\n",
       "      Jupyter.notebook.get_cells().map(function(cell){\n",
       "          if (cell.cell_type == 'code'){ cell.auto_highlight(); } }) ;\n",
       "  });\n",
       "});\n",
       "} catch (e) {};\n"
      ]
     },
     "metadata": {},
     "output_type": "display_data"
    },
    {
     "name": "stderr",
     "output_type": "stream",
     "text": [
      "DEBUG:RFSoC_Daq:Created RFSoC device\n",
      "DEBUG:RFSoC_Daq:Restoring original module search path\n",
      "DEBUG:RFSoC_Daq:Going back to original directory /home/xilinx/rfsoc-pydaq/Biquad/Notebooks\n"
     ]
    }
   ],
   "source": [
    "daq = Biquad_Daq()\n",
    "sim = SimBiquad()\n",
    "filter = Filter()\n",
    "\n",
    "filter.calc_params(460)"
   ]
  },
  {
   "cell_type": "code",
   "execution_count": 3,
   "id": "0f4d89b4-842e-4b0b-b706-9a45cc4c81b8",
   "metadata": {},
   "outputs": [],
   "source": [
    "import pynq\n",
    "\n",
    "import numpy as np\n",
    "from ipywidgets import interact, interactive, fixed, interact_manual, HBox\n",
    "import ipywidgets as widgets\n",
    "from IPython.display import display, clear_output\n",
    "import matplotlib.pyplot as plt"
   ]
  },
  {
   "cell_type": "code",
   "execution_count": 4,
   "id": "390bc06d-b5a0-4d3b-902c-017a83e6a8c3",
   "metadata": {},
   "outputs": [],
   "source": [
    "def update_plot():\n",
    "    # daq.reset()\n",
    "    \n",
    "    daq.update_params(**filter.get_params())\n",
    "    daq.quantise_coeffs()\n",
    "    \n",
    "    daq.generate_waveforms()\n",
    "    \n",
    "    sim.update_params(**filter.get_params())\n",
    "    sim.data = daq.adcBuffer[0] >> 4\n",
    "    sim.quantise_coeffs()\n",
    "    \n",
    "    sim.run_IIR()\n",
    "    \n",
    "    daq_output = daq.extract_biquad()\n",
    "    sim_output = sim.extract_biquad()\n",
    "    daq_input = daq.extract_raw()\n",
    "    \n",
    "    fig, ((axB,axS,axR),(ax0, ax1, ax2)) = plt.subplots(2, 3, figsize=(35, 15))\n",
    "        \n",
    "    daq_output.plotWaveform(axB, title=\"Biquaded ADC224_T0_CH0\")\n",
    "    daq_output.plotFFT(ax0, title=\"Biquaded FFT\")\n",
    "    \n",
    "    sim_output.plotWaveform(axS, title=\"Simulated Biquad\")\n",
    "    sim_output.plotFFT(ax1, title=\"Simulated FFT\")\n",
    "    \n",
    "    daq_input.plotWaveform(axR, title=\"Raw ADC224_T0_CH0\")\n",
    "    daq_input.plotFFT(ax2, title=\"Raw FFT\")\n",
    "    \n",
    "    plt.show()\n",
    "    print(filter)"
   ]
  },
  {
   "cell_type": "code",
   "execution_count": 5,
   "id": "a9cc9d9b-c460-4f8e-9d71-80f864c10c5f",
   "metadata": {},
   "outputs": [
    {
     "data": {
      "application/vnd.jupyter.widget-view+json": {
       "model_id": "d8d98122874a4df8826c4da3f02838d9",
       "version_major": 2,
       "version_minor": 0
      },
      "text/plain": [
       "VBox(children=(HBox(children=(FloatSlider(value=0.9118751438539222, continuous_update=False, description='A:',…"
      ]
     },
     "metadata": {},
     "output_type": "display_data"
    }
   ],
   "source": [
    "A_slider = widgets.FloatSlider(min=-4, max=4, step=0.05, value=filter.A, description='A:', continuous_update=False)\n",
    "P_slider = widgets.FloatSlider(min=0, max=1, step=0.05, value=filter.P, description='P:', continuous_update=False)\n",
    "Zero_slider = widgets.FloatSlider(min=200, max=1200, step=5, value=filter.fz, description='Zero:', continuous_update=False)\n",
    "Pole_slider = widgets.FloatSlider(min=1, max=1500, step=5, value=filter.fp, description='Pole:', continuous_update=False)\n",
    "\n",
    "plot_output = widgets.Output()\n",
    "\n",
    "# def update_plot():\n",
    "#     with plot_output:\n",
    "#         plot_output.clear_output(wait=True)\n",
    "#        print(f\"Plotting with: A={filter.A}, P={filter.P}, Zero={filter.fz}, Pole={filter.fp}\")\n",
    "\n",
    "def update_params(_=None):\n",
    "    with plot_output:\n",
    "        plot_output.clear_output(wait=True)\n",
    "        filter.fz = Zero_slider.value\n",
    "        filter.A = A_slider.value\n",
    "        filter.P = P_slider.value\n",
    "        filter.fp = Pole_slider.value\n",
    "        update_plot()\n",
    "\n",
    "def update(change):\n",
    "    with plot_output:\n",
    "        plot_output.clear_output(wait=True)\n",
    "        if change['owner'] == Zero_slider:\n",
    "            filter.fz = Zero_slider.value\n",
    "            A_slider.value = filter.A\n",
    "            P_slider.value = filter.P\n",
    "            Pole_slider.value = filter.fp\n",
    "        update_plot()\n",
    "        \n",
    "update_button = widgets.Button(description=\"Update Plot\")\n",
    "\n",
    "update_button.on_click(update_params)\n",
    "        \n",
    "Zero_slider.observe(update, names='value')\n",
    "\n",
    "# Layout\n",
    "slider_box = widgets.HBox([A_slider, P_slider, Zero_slider, Pole_slider, update_button])\n",
    "ui = widgets.VBox([slider_box, plot_output])\n",
    "\n",
    "# Display\n",
    "display(ui)\n",
    "\n",
    "# Initial plot\n",
    "update_params()"
   ]
  },
  {
   "cell_type": "code",
   "execution_count": null,
   "id": "648e42e1-62f7-4916-b150-c9bdba2f10d2",
   "metadata": {},
   "outputs": [],
   "source": []
  },
  {
   "cell_type": "code",
   "execution_count": null,
   "id": "8f4f96a2-4045-404b-aa9f-178f7c83e187",
   "metadata": {},
   "outputs": [],
   "source": []
  },
  {
   "cell_type": "code",
   "execution_count": null,
   "id": "d9bbf0c0-3489-4051-9578-83eccc34a9f4",
   "metadata": {},
   "outputs": [],
   "source": []
  }
 ],
 "metadata": {
  "kernelspec": {
   "display_name": "Python 3 (ipykernel)",
   "language": "python",
   "name": "python3"
  },
  "language_info": {
   "codemirror_mode": {
    "name": "ipython",
    "version": 3
   },
   "file_extension": ".py",
   "mimetype": "text/x-python",
   "name": "python",
   "nbconvert_exporter": "python",
   "pygments_lexer": "ipython3",
   "version": "3.10.4"
  }
 },
 "nbformat": 4,
 "nbformat_minor": 5
}
