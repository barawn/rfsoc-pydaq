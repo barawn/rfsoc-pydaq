{
 "cells": [
  {
   "cell_type": "code",
   "execution_count": 1,
   "id": "973bc2f6-3d8d-486e-bd76-8431c7ecc7e4",
   "metadata": {},
   "outputs": [],
   "source": [
    "import sys, os\n",
    "\n",
    "sys.path.append(os.path.abspath(os.path.join(os.getcwd(), '..')))\n",
    "sys.path.append(os.path.abspath(os.path.join(os.getcwd(), '..', '..')))\n",
    "\n",
    "import importlib\n",
    "\n",
    "import RFSoC_Daq\n",
    "from RFSoC_Daq import RFSoC_Daq\n",
    "\n",
    "import Biquad\n",
    "importlib.reload(Biquad)\n",
    "from Biquad import Biquad\n",
    "\n",
    "import SimBiquad\n",
    "importlib.reload(SimBiquad)\n",
    "from SimBiquad import SimBiquad\n",
    "\n",
    "import Biquad_Daq\n",
    "from Biquad_Daq import Biquad_Daq"
   ]
  },
  {
   "cell_type": "code",
   "execution_count": 2,
   "id": "ff2f9267-720c-4269-9885-e1c20ecf133c",
   "metadata": {},
   "outputs": [
    {
     "name": "stdout",
     "output_type": "stream",
     "text": [
      "Turning on SYNC\n",
      "Turning off SYNC\n"
     ]
    },
    {
     "data": {
      "application/javascript": [
       "\n",
       "try {\n",
       "require(['notebook/js/codecell'], function(codecell) {\n",
       "  codecell.CodeCell.options_default.highlight_modes[\n",
       "      'magic_text/x-csrc'] = {'reg':[/^%%microblaze/]};\n",
       "  Jupyter.notebook.events.one('kernel_ready.Kernel', function(){\n",
       "      Jupyter.notebook.get_cells().map(function(cell){\n",
       "          if (cell.cell_type == 'code'){ cell.auto_highlight(); } }) ;\n",
       "  });\n",
       "});\n",
       "} catch (e) {};\n"
      ]
     },
     "metadata": {},
     "output_type": "display_data"
    },
    {
     "data": {
      "application/javascript": [
       "\n",
       "try {\n",
       "require(['notebook/js/codecell'], function(codecell) {\n",
       "  codecell.CodeCell.options_default.highlight_modes[\n",
       "      'magic_text/x-csrc'] = {'reg':[/^%%pybind11/]};\n",
       "  Jupyter.notebook.events.one('kernel_ready.Kernel', function(){\n",
       "      Jupyter.notebook.get_cells().map(function(cell){\n",
       "          if (cell.cell_type == 'code'){ cell.auto_highlight(); } }) ;\n",
       "  });\n",
       "});\n",
       "} catch (e) {};\n"
      ]
     },
     "metadata": {},
     "output_type": "display_data"
    }
   ],
   "source": [
    "daq = Biquad_Daq(None, None, 4, 2**10)\n",
    "sim = SimBiquad()"
   ]
  },
  {
   "cell_type": "code",
   "execution_count": 3,
   "id": "8d4e0571-a14f-4e28-ab97-4c0868c9c387",
   "metadata": {
    "tags": []
   },
   "outputs": [],
   "source": [
    "import pynq\n",
    "\n",
    "import numpy as np\n",
    "from ipywidgets import interact, interactive, fixed, interact_manual, HBox\n",
    "import ipywidgets as widgets\n",
    "from IPython.display import display, clear_output\n",
    "import matplotlib.pyplot as plt"
   ]
  },
  {
   "cell_type": "code",
   "execution_count": 4,
   "id": "0fb389e9-0258-4893-adfb-fca0e2eb8fdc",
   "metadata": {},
   "outputs": [],
   "source": [
    "def update_plot(A, B, P, theta):\n",
    "    daq.reset()\n",
    "    \n",
    "    daq.update_params(A, B, P, theta*np.pi)\n",
    "\n",
    "    daq.run_Biquad()\n",
    "    \n",
    "    sim.update_params(A, B, P, theta*np.pi)\n",
    "    sim.data = np.array(daq.adcBuffer[0] >> 4)\n",
    "    \n",
    "    # sim.set_daq_coeffs(daq.get_coeffs())\n",
    "    \n",
    "    sim.run_Biquad()\n",
    "    \n",
    "    daq_output = daq.extract_biquad()\n",
    "    sim_output = sim.extract_biquad()\n",
    "    daq_input = daq.extract_raw()\n",
    "    \n",
    "    fig, ((axB,axS,axR),(ax0, ax1, ax2)) = plt.subplots(2, 3, figsize=(35, 15))\n",
    "        \n",
    "    daq_output.plotWaveform(axB, title=\"Biquaded ADC224_T0_CH0\")\n",
    "    daq_output.plotFFT(ax0, title=\"Biquaded FFT\")\n",
    "    \n",
    "    sim_output.plotWaveform(axS, title=\"Simulated Biquad\")\n",
    "    sim_output.plotFFT(ax1, title=\"Simulated FFT\")\n",
    "    \n",
    "    daq_input.plotWaveform(axR, title=\"Raw ADC224_T0_CH0\")\n",
    "    daq_input.plotFFT(ax2, title=\"Raw FFT\")\n",
    "    \n",
    "    plt.show()"
   ]
  },
  {
   "cell_type": "code",
   "execution_count": 5,
   "id": "030d3177-01b0-4729-b197-75f67e500264",
   "metadata": {},
   "outputs": [
    {
     "data": {
      "application/vnd.jupyter.widget-view+json": {
       "model_id": "c0ff52e8908d4cc49e865c5de3e9cf35",
       "version_major": 2,
       "version_minor": 0
      },
      "text/plain": [
       "VBox(children=(HBox(children=(FloatSlider(value=0.0, continuous_update=False, description='A:', max=7.9, min=-…"
      ]
     },
     "metadata": {},
     "output_type": "display_data"
    }
   ],
   "source": [
    "A_slider = widgets.FloatSlider(min=-8, max=7.9, step=0.05, value=0, description='A:', continuous_update=False)\n",
    "B_slider = widgets.FloatSlider(min=-8, max=7.9, step=0.05, value=1, description='B:', continuous_update=False)\n",
    "P_slider = widgets.FloatSlider(min=0, max=1, step=0.01, value=0, description='P:', continuous_update=False)\n",
    "Theta_slider = widgets.FloatSlider(min=0, max=1, step=0.01, value=0.9601495285661642/np.pi, description='Theta:', continuous_update=False)\n",
    "\n",
    "plot_output = widgets.Output()\n",
    "    \n",
    "def update(change):\n",
    "    with plot_output:\n",
    "        plot_output.clear_output(wait=True)\n",
    "        update_plot(A_slider.value, B_slider.value, P_slider.value, Theta_slider.value)\n",
    "    \n",
    "A_slider.observe(update, names='value')\n",
    "B_slider.observe(update, names='value')\n",
    "P_slider.observe(update, names='value')\n",
    "Theta_slider.observe(update, names='value')\n",
    "\n",
    "# Layout\n",
    "slider_box = widgets.HBox([A_slider, B_slider, P_slider, Theta_slider])\n",
    "ui = widgets.VBox([slider_box, plot_output])\n",
    "\n",
    "# Display\n",
    "display(ui)\n",
    "\n",
    "# Initial plot\n",
    "update(None)"
   ]
  },
  {
   "cell_type": "code",
   "execution_count": null,
   "id": "5ede164a-0826-402f-a2af-e214e0b6df19",
   "metadata": {},
   "outputs": [],
   "source": []
  }
 ],
 "metadata": {
  "kernelspec": {
   "display_name": "Python 3 (ipykernel)",
   "language": "python",
   "name": "python3"
  },
  "language_info": {
   "codemirror_mode": {
    "name": "ipython",
    "version": 3
   },
   "file_extension": ".py",
   "mimetype": "text/x-python",
   "name": "python",
   "nbconvert_exporter": "python",
   "pygments_lexer": "ipython3",
   "version": "3.10.4"
  }
 },
 "nbformat": 4,
 "nbformat_minor": 5
}
